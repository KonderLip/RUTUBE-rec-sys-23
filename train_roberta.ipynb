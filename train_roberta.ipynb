{
 "cells": [
  {
   "cell_type": "markdown",
   "id": "5ecb2b58",
   "metadata": {},
   "source": [
    "## Libraries"
   ]
  },
  {
   "cell_type": "code",
   "execution_count": 1,
   "id": "db76f968",
   "metadata": {},
   "outputs": [
    {
     "name": "stderr",
     "output_type": "stream",
     "text": [
      "\n",
      "libgomp: Invalid value for environment variable OMP_NUM_THREADS\n",
      "\n",
      "libgomp: Invalid value for environment variable OMP_NUM_THREADS\n"
     ]
    },
    {
     "name": "stdout",
     "output_type": "stream",
     "text": [
      "1.13.1+cu117\n",
      "4.30.2\n",
      "True\n"
     ]
    }
   ],
   "source": [
    "import os\n",
    "import sys\n",
    "import wandb\n",
    "\n",
    "import numpy as np\n",
    "import pandas as pd\n",
    "import random\n",
    "import seaborn as sns\n",
    "import matplotlib.pyplot as plt\n",
    "\n",
    "import torch\n",
    "torch.cuda.empty_cache()\n",
    "\n",
    "import torch.nn as nn\n",
    "#from torch.optim import AdamW\n",
    "from torch.utils.data import DataLoader, Dataset\n",
    "import transformers\n",
    "from transformers import RobertaConfig, RobertaModel, get_linear_schedule_with_warmup, AdamW\n",
    "\n",
    "from tqdm.auto import tqdm\n",
    "from sklearn.model_selection import train_test_split\n",
    "from sklearn.preprocessing import LabelEncoder\n",
    "\n",
    "from typing import Sequence\n",
    "from functools import partial\n",
    "from collections import Counter\n",
    "\n",
    "print(torch.__version__)\n",
    "print(transformers.__version__)\n",
    "print(torch.cuda.is_available())"
   ]
  },
  {
   "cell_type": "code",
   "execution_count": 2,
   "id": "17bacb08",
   "metadata": {},
   "outputs": [],
   "source": [
    "seed = 56\n",
    "workers = True\n",
    "os.environ[\"PL_GLOBAL_SEED\"] = str(seed)\n",
    "random.seed(seed)\n",
    "np.random.seed(seed)\n",
    "torch.manual_seed(seed)\n",
    "torch.cuda.manual_seed_all(seed)\n",
    "os.environ[\"PL_SEED_WORKERS\"] = f\"{int(workers)}\""
   ]
  },
  {
   "cell_type": "markdown",
   "id": "8c03d53f",
   "metadata": {},
   "source": [
    "## Split Data"
   ]
  },
  {
   "cell_type": "code",
   "execution_count": 3,
   "id": "9191d074",
   "metadata": {},
   "outputs": [
    {
     "name": "stdout",
     "output_type": "stream",
     "text": [
      "179428\n"
     ]
    }
   ],
   "source": [
    "dict_item_to_author = pd.read_csv('./data/item_authors.csv')\n",
    "print(dict_item_to_author['author_title'].nunique())\n",
    "dict_item_to_author = dict(zip(dict_item_to_author['item_id'], dict_item_to_author['author_title']))"
   ]
  },
  {
   "cell_type": "code",
   "execution_count": 4,
   "id": "de3b1142",
   "metadata": {},
   "outputs": [
    {
     "data": {
      "text/plain": [
       "179427"
      ]
     },
     "execution_count": 4,
     "metadata": {},
     "output_type": "execute_result"
    }
   ],
   "source": [
    "np.asarray(list(dict_item_to_author.values())).max()"
   ]
  },
  {
   "cell_type": "code",
   "execution_count": 5,
   "id": "44935aa5",
   "metadata": {},
   "outputs": [
    {
     "data": {
      "application/vnd.jupyter.widget-view+json": {
       "model_id": "ed627ae07b2a4c8ca619832f344dfae3",
       "version_major": 2,
       "version_minor": 0
      },
      "text/plain": [
       "  0%|          | 0/1393055 [00:00<?, ?it/s]"
      ]
     },
     "metadata": {},
     "output_type": "display_data"
    }
   ],
   "source": [
    "start_history = []\n",
    "train_items = set()\n",
    "\n",
    "with open('./data/train') as f:\n",
    "    lines = f.readlines()\n",
    "    for line in tqdm(lines):\n",
    "        videos = line.strip().split(' ')\n",
    "        videos = list(map(int, videos))\n",
    "        start_history.append(videos)\n",
    "        train_items.update(videos)\n",
    "start_history_lengths = np.asarray([len(x) for x in start_history])\n",
    "bin_thresholds = np.quantile(start_history_lengths, q=[np.arange(0.1, 1.0, 0.1)])\n",
    "start_history_bins = np.digitize(start_history_lengths, bins=bin_thresholds.flatten())"
   ]
  },
  {
   "cell_type": "code",
   "execution_count": 6,
   "id": "1d31e496",
   "metadata": {},
   "outputs": [
    {
     "data": {
      "text/plain": [
       "27757278"
      ]
     },
     "execution_count": 6,
     "metadata": {},
     "output_type": "execute_result"
    }
   ],
   "source": [
    "np.sum(start_history_lengths)"
   ]
  },
  {
   "cell_type": "code",
   "execution_count": 7,
   "id": "c9b1817f",
   "metadata": {},
   "outputs": [
    {
     "data": {
      "text/plain": [
       "array([[ 7.,  8.,  9., 10., 12., 14., 17., 23., 38.]])"
      ]
     },
     "execution_count": 7,
     "metadata": {},
     "output_type": "execute_result"
    }
   ],
   "source": [
    "bin_thresholds"
   ]
  },
  {
   "cell_type": "code",
   "execution_count": 8,
   "id": "f384ffe5",
   "metadata": {},
   "outputs": [
    {
     "data": {
      "image/png": "[encoded data removed]",
      "text/plain": [
       "<Figure size 432x288 with 1 Axes>"
      ]
     },
     "metadata": {
      "needs_background": "light"
     },
     "output_type": "display_data"
    }
   ],
   "source": [
    "sns.histplot(start_history_lengths, bins=64)\n",
    "plt.show()"
   ]
  },
  {
   "cell_type": "code",
   "execution_count": 9,
   "id": "5f6a30ee",
   "metadata": {},
   "outputs": [
    {
     "data": {
      "image/png": "[encoded data removed]",
      "text/plain": [
       "<Figure size 432x288 with 1 Axes>"
      ]
     },
     "metadata": {
      "needs_background": "light"
     },
     "output_type": "display_data"
    }
   ],
   "source": [
    "sns.histplot(start_history_bins)\n",
    "plt.show()"
   ]
  },
  {
   "cell_type": "code",
   "execution_count": 10,
   "id": "62e7ca96",
   "metadata": {},
   "outputs": [
    {
     "data": {
      "text/plain": [
       "array([6, 1, 8, ..., 1, 4, 2])"
      ]
     },
     "execution_count": 10,
     "metadata": {},
     "output_type": "execute_result"
    }
   ],
   "source": [
    "start_history_bins"
   ]
  },
  {
   "cell_type": "code",
   "execution_count": 11,
   "id": "9f5b0ffb",
   "metadata": {},
   "outputs": [],
   "source": [
    "train_start_history, val_start_history = train_test_split(start_history, test_size=0.2, random_state=56, stratify=start_history_bins)"
   ]
  },
  {
   "cell_type": "code",
   "execution_count": 12,
   "id": "1e3949b5",
   "metadata": {},
   "outputs": [
    {
     "data": {
      "text/plain": [
       "(1114444, 278611)"
      ]
     },
     "execution_count": 12,
     "metadata": {},
     "output_type": "execute_result"
    }
   ],
   "source": [
    "len(train_start_history), len(val_start_history)"
   ]
  },
  {
   "cell_type": "code",
   "execution_count": 13,
   "id": "d24a82e7",
   "metadata": {},
   "outputs": [],
   "source": [
    "train_start_history_lengths = np.asarray([len(x) for x in train_start_history])\n",
    "train_bin_thresholds = np.quantile(train_start_history_lengths, q=[np.arange(0.1, 1.0, 0.1)])\n",
    "train_start_history_bins = np.digitize(train_start_history_lengths, bins=train_bin_thresholds.flatten())\n",
    "\n",
    "val_start_history_lengths = np.asarray([len(x) for x in val_start_history])\n",
    "val_bin_thresholds = np.quantile(val_start_history_lengths, q=[np.arange(0.1, 1.0, 0.1)])\n",
    "val_start_history_bins = np.digitize(val_start_history_lengths, bins=val_bin_thresholds.flatten())"
   ]
  },
  {
   "cell_type": "code",
   "execution_count": 14,
   "id": "a4128840",
   "metadata": {},
   "outputs": [
    {
     "data": {
      "image/png": "[encoded data removed]",
      "text/plain": [
       "<Figure size 432x288 with 1 Axes>"
      ]
     },
     "metadata": {
      "needs_background": "light"
     },
     "output_type": "display_data"
    }
   ],
   "source": [
    "sns.histplot(train_start_history_lengths, bins=64)\n",
    "sns.histplot(val_start_history_lengths, bins=64)\n",
    "plt.show()"
   ]
  },
  {
   "cell_type": "code",
   "execution_count": 15,
   "id": "11dcdc58",
   "metadata": {},
   "outputs": [],
   "source": [
    "class ItemEncoder:\n",
    "    def __init__(self, keep_top_n):\n",
    "        self.keep_top_n = keep_top_n\n",
    "        self.item_to_id = None\n",
    "        self.id_to_item = None\n",
    "        self.counter = Counter()\n",
    "        self.is_locked = False\n",
    "        \n",
    "    def fit(self, data):\n",
    "        if self.is_locked:\n",
    "            raise Exception(\"encoder has been locked\")\n",
    "        self.counter.update(data)\n",
    "        \n",
    "    def transform(self, data):\n",
    "        if not self.is_locked:\n",
    "            raise Exception(\"transforming with unlocked encoder is not allowed\")\n",
    "        return np.vectorize(lambda x: self.item_to_id.get(x, 0))(data) # unk key is 0\n",
    "    \n",
    "    def inverse_transform(self, data):\n",
    "        if not self.is_locked:\n",
    "            raise Exception(\"transforming with unlocked encoder is not allowed\")\n",
    "        return np.vectorize(self.id_to_item.__getitem__)(data)\n",
    "    \n",
    "    def lock(self):\n",
    "        self.id_to_item = [-1] + list(map(lambda x: x[0], self.counter.most_common(self.keep_top_n)))\n",
    "        self.item_to_id = {x: i for i, x in enumerate(self.id_to_item)}\n",
    "        assert len(self.id_to_item) == len(self.item_to_id)\n",
    "        self.is_locked = True\n",
    "    \n",
    "    def __len__(self):\n",
    "        return len(self.id_to_item)        "
   ]
  },
  {
   "cell_type": "code",
   "execution_count": 16,
   "id": "4bcd948e",
   "metadata": {},
   "outputs": [],
   "source": [
    "item_encoder = ItemEncoder(keep_top_n=None)\n",
    "for seq in train_start_history:\n",
    "    item_encoder.fit(seq)\n",
    "item_encoder.lock()"
   ]
  },
  {
   "cell_type": "code",
   "execution_count": 17,
   "id": "dc9d1883",
   "metadata": {},
   "outputs": [],
   "source": [
    "author_encoder = ItemEncoder(keep_top_n=None)\n",
    "for seq in train_start_history:\n",
    "    author_encoder.fit(map(lambda x: dict_item_to_author[x], seq))\n",
    "author_encoder.lock()"
   ]
  },
  {
   "cell_type": "code",
   "execution_count": 18,
   "id": "20296a4c",
   "metadata": {},
   "outputs": [
    {
     "data": {
      "text/plain": [
       "(1021298, 1167029)"
      ]
     },
     "execution_count": 18,
     "metadata": {},
     "output_type": "execute_result"
    }
   ],
   "source": [
    "len(item_encoder), len(train_items)"
   ]
  },
  {
   "cell_type": "code",
   "execution_count": 19,
   "id": "c7eb2095",
   "metadata": {},
   "outputs": [],
   "source": [
    "# val_start_history = [seq for seq in val_start_history if set(seq).issubset(train_items)]"
   ]
  },
  {
   "cell_type": "code",
   "execution_count": 20,
   "id": "eee2f2e5",
   "metadata": {},
   "outputs": [
    {
     "data": {
      "text/plain": [
       "[(144691, 327703),\n",
       " (302657, 313071),\n",
       " (1594159, 295979),\n",
       " (1761620, 263484),\n",
       " (68646, 237070),\n",
       " (170129, 227356),\n",
       " (836422, 201378),\n",
       " (1508623, 179780),\n",
       " (803844, 146045),\n",
       " (902590, 143146)]"
      ]
     },
     "execution_count": 20,
     "metadata": {},
     "output_type": "execute_result"
    }
   ],
   "source": [
    "item_encoder.counter.most_common(10)"
   ]
  },
  {
   "cell_type": "code",
   "execution_count": 21,
   "id": "219a44c4",
   "metadata": {},
   "outputs": [
    {
     "data": {
      "application/vnd.jupyter.widget-view+json": {
       "model_id": "d49fd96c22334b20901aff53d0718683",
       "version_major": 2,
       "version_minor": 0
      },
      "text/plain": [
       "0it [00:00, ?it/s]"
      ]
     },
     "metadata": {},
     "output_type": "display_data"
    }
   ],
   "source": [
    "val_true = []\n",
    "most_common_item = item_encoder.counter.most_common(1)[0][0]\n",
    "for i, _ in tqdm(enumerate(val_start_history)):\n",
    "    answer = val_start_history[i][-1]\n",
    "    val_true += [answer]\n",
    "    val_start_history[i][-1] = most_common_item # magic number for sanity check "
   ]
  },
  {
   "cell_type": "markdown",
   "id": "aa3677e8",
   "metadata": {},
   "source": [
    "## Create dataset"
   ]
  },
  {
   "cell_type": "code",
   "execution_count": 22,
   "id": "683f4a32",
   "metadata": {},
   "outputs": [],
   "source": [
    "class SpecialTokens:\n",
    "    def __init__(self, tokens):\n",
    "        assert len(tokens) == len(set(tokens))\n",
    "        assert 'pad_token' in tokens\n",
    "        assert 'mask_token' in tokens\n",
    "        self.n_tokens = len(tokens)\n",
    "        for i, x in enumerate(tokens):\n",
    "            setattr(self, x, i)\n",
    "    \n",
    "    def __len__(self):\n",
    "        return self.n_tokens"
   ]
  },
  {
   "cell_type": "code",
   "execution_count": 23,
   "id": "baf1c8d7",
   "metadata": {},
   "outputs": [],
   "source": [
    "def list2d_to_np(list2d, pad_token=-1):\n",
    "    np_list2d = np.ones(\n",
    "        [len(list2d), len(max(list2d, key=lambda x: len(x)))], dtype=int\n",
    "    ) * pad_token\n",
    "    for i, j in enumerate(list2d):\n",
    "        np_list2d[i][0:len(j)] = j\n",
    "    return np_list2d"
   ]
  },
  {
   "cell_type": "code",
   "execution_count": 24,
   "id": "39f96643",
   "metadata": {},
   "outputs": [],
   "source": [
    "class YaCupDataset(Dataset):\n",
    "    def __init__(\n",
    "        self,\n",
    "        data,\n",
    "        item_encoder,\n",
    "        author_encoder,\n",
    "        item_to_author_dict,\n",
    "        special_tokens: Sequence[str],\n",
    "        mask_prob: float,\n",
    "        force_last_token_mask_prob: float,\n",
    "        max_len: int\n",
    "    ):\n",
    "        self.special_tokens = SpecialTokens(special_tokens)\n",
    "        self.vocab_size = len(item_encoder) + len(self.special_tokens)\n",
    "        self.author_size = len(author_encoder) + 1 # 0 is masked author\n",
    "        self.mask_prob = mask_prob\n",
    "        self.force_last_token_mask_prob = force_last_token_mask_prob\n",
    "        self.max_len = max_len\n",
    "        self.item_encoder = item_encoder\n",
    "        self.author_encoder = author_encoder\n",
    "        self.item_to_author_dict = item_to_author_dict\n",
    "        self.data, self.data_lengths, self.data_authors = YaCupDataset._preprocess_list_2d(\n",
    "            data,\n",
    "            token_shift=len(self.special_tokens),\n",
    "            pad_token=self.special_tokens.pad_token,\n",
    "            item_encoder=self.item_encoder,\n",
    "            author_encoder=self.author_encoder,\n",
    "            item_to_author_dict = self.item_to_author_dict,\n",
    "            author_shift = 1, # masked tokens are special \n",
    "        )\n",
    "        \n",
    "    def __getitem__(self, index):\n",
    "        return self._preprocess_sequence(self.data[index], self.data_lengths[index], self.data_authors[index])\n",
    "        \n",
    "    def __len__(self):\n",
    "        return len(self.data)\n",
    "        \n",
    "    @staticmethod\n",
    "    def _preprocess_list_2d(list2d, token_shift, pad_token, item_encoder, author_encoder, item_to_author_dict, author_shift):\n",
    "        np_list2d = np.ones(\n",
    "            [len(list2d), len(max(list2d, key=lambda x: len(x)))], dtype=int\n",
    "        ) * pad_token\n",
    "        np_lengths = np.zeros(len(list2d), dtype=int)\n",
    "        np_list2d_authors = np.zeros(\n",
    "            [len(list2d), len(max(list2d, key=lambda x: len(x)))], dtype=int\n",
    "        )\n",
    "        for i, j in enumerate(list2d):\n",
    "            np_list2d[i][0:len(j)] = item_encoder.transform(j)[::-1]  # reverse for better pos encoding learning\n",
    "            np_list2d[i][0:len(j)] += token_shift\n",
    "            np_lengths[i] = len(j)\n",
    "            # transform items to authors, encode authors with author_encoder, reverse the order just start above\n",
    "            np_list2d_authors[i][0:len(j)] = author_encoder.transform(\n",
    "                list(map(lambda x: item_to_author_dict[x], j))\n",
    "            )[::-1]\n",
    "            np_list2d_authors[i][0:len(j)] += author_shift\n",
    "        return np_list2d, np_lengths, np_list2d_authors\n",
    "    \n",
    "    def _preprocess_sequence(self, sequence_ids, length, author_ids):\n",
    "        input_ids = torch.LongTensor(sequence_ids).clone()\n",
    "        labels = torch.LongTensor(sequence_ids).clone()\n",
    "            \n",
    "        if np.random.random() < self.force_last_token_mask_prob:\n",
    "            mask = torch.zeros(sequence_ids.shape)\n",
    "            mask[0] = True\n",
    "        else:\n",
    "            mask = torch.rand(sequence_ids.shape)\n",
    "            mask = (mask < self.mask_prob)\n",
    "        mask *= (input_ids > len(self.special_tokens)) # don't mask special tokens\n",
    "        if mask.sum() == 0:\n",
    "            mask = torch.zeros(sequence_ids.shape)\n",
    "            mask[0] = True\n",
    "            mask *= (input_ids > len(self.special_tokens)) # don't mask special tokens\n",
    "        mask_indices = mask.nonzero().flatten()\n",
    "        n_masked = torch.LongTensor([len(mask_indices)])\n",
    "        input_ids[mask_indices] = self.special_tokens.mask_token\n",
    "        attention_mask = (input_ids != self.special_tokens.pad_token) * 1.0\n",
    "        token_type_ids = torch.LongTensor(author_ids).clone()\n",
    "        token_type_ids[mask_indices] = 0 # masked segment\n",
    "        author_labels = torch.LongTensor(author_ids).clone()\n",
    "        \n",
    "        author_labels[token_type_ids != 0] = -100 # calculate loss only for masked tokens\n",
    "        author_labels[length:] = -100 # remove pad tokens from loss\n",
    "        labels[input_ids != self.special_tokens.mask_token] = -100 # calculate loss only for masked tokens\n",
    "        # labels[input_ids == self.special_tokens.pad_token] = -100 # calculate loss only for non-pad tokens\n",
    "        inputs = {\n",
    "            'input_ids': input_ids,\n",
    "            'token_type_ids': token_type_ids,\n",
    "            'attention_mask': attention_mask,\n",
    "            'labels': labels,\n",
    "            'author_labels': author_labels,\n",
    "            'n_masked': n_masked,\n",
    "            'last_token_index': torch.LongTensor([length - 1]),\n",
    "        }\n",
    "        \n",
    "        return inputs"
   ]
  },
  {
   "cell_type": "code",
   "execution_count": 25,
   "id": "e5e8a732",
   "metadata": {},
   "outputs": [],
   "source": [
    "dataset = YaCupDataset(\n",
    "    train_start_history,\n",
    "    item_encoder=item_encoder,\n",
    "    author_encoder=author_encoder,\n",
    "    item_to_author_dict=dict_item_to_author,\n",
    "    special_tokens=['cls_token', 'sep_token', 'mask_token', 'pad_token'],\n",
    "    mask_prob=0.2,\n",
    "    force_last_token_mask_prob=0.0,\n",
    "    max_len=256,\n",
    ")\n",
    "\n",
    "val_dataset = YaCupDataset(\n",
    "    val_start_history,\n",
    "    item_encoder=item_encoder,\n",
    "    author_encoder=author_encoder,\n",
    "    item_to_author_dict=dict_item_to_author,\n",
    "    special_tokens=['cls_token', 'sep_token', 'mask_token', 'pad_token'],\n",
    "    mask_prob=0.2,\n",
    "    force_last_token_mask_prob=1.0,\n",
    "    max_len=256,\n",
    ")"
   ]
  },
  {
   "cell_type": "code",
   "execution_count": 26,
   "id": "17dd7b60",
   "metadata": {},
   "outputs": [],
   "source": [
    "dataloader = DataLoader(\n",
    "    dataset,\n",
    "    batch_size=32,\n",
    "    num_workers=24,\n",
    "    drop_last=True,\n",
    "    shuffle=True,\n",
    "    pin_memory=True\n",
    ")\n",
    "\n",
    "val_dataloader = DataLoader(\n",
    "    val_dataset,\n",
    "    batch_size=32,\n",
    "    num_workers=24,\n",
    "    drop_last=False,\n",
    "    shuffle=False,\n",
    "    pin_memory=True\n",
    ")"
   ]
  },
  {
   "cell_type": "code",
   "execution_count": 27,
   "id": "ee236c63",
   "metadata": {},
   "outputs": [],
   "source": [
    "from typing import List, Optional, Tuple, Union\n",
    "from transformers.modeling_outputs import MaskedLMOutput\n",
    "from torch.nn import CrossEntropyLoss\n",
    "\n",
    "\n",
    "class YacupModel(nn.Module):\n",
    "    def __init__(self, config, label_smoothing):\n",
    "        super().__init__()\n",
    "        self.config = config\n",
    "        self.bert = RobertaModel(config)\n",
    "        self.bias = nn.Parameter(torch.zeros(config.vocab_size))\n",
    "        \n",
    "        self.label_smoothing = label_smoothing\n",
    "        \n",
    "    def init_weights(self):\n",
    "        self.bert.init_weights()\n",
    "                \n",
    "    def forward(\n",
    "        self,\n",
    "        input_ids: Optional[torch.Tensor] = None,\n",
    "        attention_mask: Optional[torch.Tensor] = None,\n",
    "        token_type_ids: Optional[torch.Tensor] = None,\n",
    "        position_ids: Optional[torch.Tensor] = None,\n",
    "        head_mask: Optional[torch.Tensor] = None,\n",
    "        inputs_embeds: Optional[torch.Tensor] = None,\n",
    "        encoder_hidden_states: Optional[torch.Tensor] = None,\n",
    "        encoder_attention_mask: Optional[torch.Tensor] = None,\n",
    "        labels: Optional[torch.Tensor] = None,\n",
    "        output_attentions: Optional[bool] = None,\n",
    "        output_hidden_states: Optional[bool] = None,\n",
    "        return_dict: Optional[bool] = None,\n",
    "        filter_history_items: Optional[bool] = False,\n",
    "        loss_class_weight: Optional[torch.Tensor] = None,\n",
    "        trim_length: Optional[int] = None,\n",
    "        item_to_author_mapper: Optional[torch.Tensor] = None,\n",
    "    ) -> Union[Tuple[torch.Tensor], MaskedLMOutput]:\n",
    "        \"\"\"Mostly from https://github.com/huggingface/transformers/blob/v4.23.1/src/transformers/models/bert/modeling_bert.py#L1288\"\"\"\n",
    "        return_dict = return_dict if return_dict is not None else self.config.use_return_dict\n",
    "        trim_length = trim_length if trim_length is not None else self.config.max_position_embeddings\n",
    "        \n",
    "        if item_to_author_mapper is None:\n",
    "            raise Exception(\"item_to_author_mapper must be passed\")\n",
    "        \n",
    "        outputs = self.bert(\n",
    "            input_ids[:, :trim_length],\n",
    "            attention_mask=attention_mask[:, :trim_length],\n",
    "            token_type_ids=token_type_ids[:, :trim_length],\n",
    "            position_ids=position_ids,\n",
    "            inputs_embeds=inputs_embeds,\n",
    "            output_attentions=output_attentions,\n",
    "            output_hidden_states=output_hidden_states,\n",
    "            return_dict=return_dict,\n",
    "        )\n",
    "\n",
    "        sequence_output = outputs[0]\n",
    "        # sum of item and author embeddings\n",
    "        output_embedding_matrix = self.bert.embeddings.word_embeddings.weight + self.bert.embeddings.token_type_embeddings.weight[item_to_author_mapper] # torch.index_select(self.bert.embeddings.token_type_embeddings.weight, dim=0, index=item_to_author_mapper)\n",
    "        prediction_scores = (sequence_output @ output_embedding_matrix.T) + self.bias\n",
    "        if filter_history_items:\n",
    "            prediction_scores.scatter_(dim=2, index=input_ids.unsqueeze(1), src=-10000 * torch.ones_like(input_ids.unsqueeze(1),dtype=prediction_scores.dtype))\n",
    "        masked_lm_loss = None\n",
    "        if labels is not None:\n",
    "            # for some reason CrossEntropyLoss raises out of bounds exception when executed with `reduction = 'mean'` (default) when `label_smoothing != 0` and `weight is not None`\n",
    "            # hence, to dodge this issue we init CrossEntropyLoss with `reduction='none'` and later we average the numbers\n",
    "            if self.label_smoothing != 0.0:\n",
    "                loss_fct = CrossEntropyLoss(weight=loss_class_weight, label_smoothing=self.label_smoothing, reduction='none')\n",
    "                masked_lm_loss = loss_fct(prediction_scores.view(-1, self.config.vocab_size), labels[:, :trim_length].flatten()).mean()\n",
    "            else:\n",
    "                loss_fct = CrossEntropyLoss(weight=loss_class_weight, label_smoothing=self.label_smoothing)\n",
    "                masked_lm_loss = loss_fct(prediction_scores.view(-1, self.config.vocab_size), labels[:, :trim_length].flatten())\n",
    "\n",
    "        if not return_dict:\n",
    "            output = (prediction_scores,) + outputs[2:]\n",
    "            return ((masked_lm_loss,) + output) if masked_lm_loss is not None else output\n",
    "\n",
    "        return MaskedLMOutput(\n",
    "            loss=masked_lm_loss,\n",
    "            logits=prediction_scores,\n",
    "            hidden_states=outputs.hidden_states,\n",
    "            attentions=outputs.attentions,\n",
    "        )"
   ]
  },
  {
   "cell_type": "code",
   "execution_count": 28,
   "id": "e17bb21b",
   "metadata": {},
   "outputs": [],
   "source": [
    "model_config = RobertaConfig(\n",
    "    vocab_size=dataset.vocab_size,\n",
    "    hidden_size=512,\n",
    "    max_position_embeddings=256,\n",
    "    attention_probs_dropout_prob=0.0,\n",
    "    hidden_act='gelu',\n",
    "    hidden_dropout_prob=0.0,\n",
    "    initializer_range=0.02,\n",
    "    intermediate_size=1024,\n",
    "    num_attention_heads=4,\n",
    "    num_hidden_layers=2,\n",
    "    type_vocab_size=dataset.author_size,\n",
    ")\n",
    "\n",
    "model = YacupModel(\n",
    "    model_config,\n",
    "    label_smoothing=0.0\n",
    ")\n",
    "model.init_weights()"
   ]
  },
  {
   "cell_type": "code",
   "execution_count": 29,
   "id": "856fb7df",
   "metadata": {},
   "outputs": [
    {
     "data": {
      "text/plain": [
       "=====================================================================================\n",
       "Layer (type:depth-idx)                                       Param #\n",
       "=====================================================================================\n",
       "YacupModel                                                   1,021,302\n",
       "├─RobertaModel: 1-1                                          --\n",
       "│    └─RobertaEmbeddings: 2-1                                --\n",
       "│    │    └─Embedding: 3-1                                   522,906,624\n",
       "│    │    └─Embedding: 3-2                                   131,072\n",
       "│    │    └─Embedding: 3-3                                   45,438,976\n",
       "│    │    └─LayerNorm: 3-4                                   1,024\n",
       "│    │    └─Dropout: 3-5                                     --\n",
       "│    └─RobertaEncoder: 2-2                                   --\n",
       "│    │    └─ModuleList: 3-6                                  4,205,568\n",
       "│    └─RobertaPooler: 2-3                                    --\n",
       "│    │    └─Linear: 3-7                                      262,656\n",
       "│    │    └─Tanh: 3-8                                        --\n",
       "=====================================================================================\n",
       "Total params: 573,967,222\n",
       "Trainable params: 573,967,222\n",
       "Non-trainable params: 0\n",
       "====================================================================================="
      ]
     },
     "execution_count": 29,
     "metadata": {},
     "output_type": "execute_result"
    }
   ],
   "source": [
    "from torchinfo import summary\n",
    "\n",
    "summary(model)"
   ]
  },
  {
   "cell_type": "code",
   "execution_count": 30,
   "id": "5696ade5",
   "metadata": {},
   "outputs": [],
   "source": [
    "def calc_mrr(predict, answer):\n",
    "    for i in range(len(predict)):\n",
    "        if predict[i] == answer:\n",
    "            return 1. / (i + 1)\n",
    "    return 0\n",
    "\n",
    "max_prediction_len = 10\n",
    "\n",
    "def calc_score(y_true, y_pred):\n",
    "    mrr_score = 0\n",
    "    for (pred, answer) in tqdm(zip(y_pred, y_true)):\n",
    "        if len(pred) > max_prediction_len:\n",
    "            raise ValueError('$maximum prediction length is {}, got {}$'.format(max_prediction_len, len(y_pred[i])))\n",
    "        mrr_score += calc_mrr(pred, answer)\n",
    "\n",
    "    print(\"MRR@10 = {}\".format(mrr_score / len(y_true)))\n",
    "    return mrr_score / len(y_true)"
   ]
  },
  {
   "cell_type": "code",
   "execution_count": 31,
   "id": "b3d3891b",
   "metadata": {},
   "outputs": [],
   "source": [
    "# crutch: put loops in scope to avoid memory fragmentaion\n",
    "\n",
    "def train(model, dl, DEVICE, TRIM_LENGTH):\n",
    "    item_to_author_indices_nn = torch.LongTensor(list(dict_item_to_author_nn.get(item_id, 1) for item_id in range(dataset.vocab_size))).to(DEVICE, non_blocking=True)\n",
    "    loss_class_weight = torch.ones(dataset.vocab_size)\n",
    "    loss_class_weight[:len(dataset.special_tokens) + 1] = 0.0 # we don't care about a special token loss or an unk token loss\n",
    "    loss_class_weight = loss_class_weight.to(DEVICE, non_blocking=True)\n",
    "\n",
    "    tbar = tqdm(dl, file=sys.stdout)\n",
    "    loss_sum = 0.0\n",
    "    n_masked_sum = 0\n",
    "    model.train()\n",
    "    for idx, batch in enumerate(tbar):\n",
    "        with torch.cuda.amp.autocast():\n",
    "            res = model.forward(\n",
    "                input_ids=batch['input_ids'].to(DEVICE, non_blocking=True),\n",
    "                attention_mask=batch['attention_mask'].to(DEVICE, non_blocking=True),\n",
    "                token_type_ids=batch['token_type_ids'].to(DEVICE, non_blocking=True),\n",
    "                labels=batch['labels'].to(DEVICE, non_blocking=True),\n",
    "                filter_history_items=True,\n",
    "                loss_class_weight=loss_class_weight,\n",
    "                trim_length=TRIM_LENGTH,\n",
    "                item_to_author_mapper=item_to_author_indices_nn\n",
    "            )\n",
    "            batch_masked_sum = batch['n_masked'].to(DEVICE, non_blocking=True).sum()\n",
    "            loss = res.loss # / batch_masked_sum; normalization hurts performance\n",
    "        scaler.scale(loss).backward()\n",
    "\n",
    "        if (idx + 1) % accumulation_steps == 0:\n",
    "            scaler.step(optimizer)\n",
    "            scaler.update()\n",
    "            optimizer.zero_grad()\n",
    "            scheduler.step()\n",
    "            \n",
    "        loss_sum += res.loss.detach().item()\n",
    "        n_masked_sum += batch_masked_sum.detach().item()\n",
    "        tbar.set_postfix_str(f\"Epoch {e + 1} Loss: {loss_sum / n_masked_sum} lr: {optimizer.param_groups[0]['lr']:.5}\")\n",
    "        \n",
    "        if idx % 100 == 0:\n",
    "            wandb.log({\"loss\": loss_sum / n_masked_sum})\n",
    "\n",
    "def validate(model, dl, DEVICE, TRIM_LENGTH):\n",
    "    item_to_author_indices_nn = torch.LongTensor(list(dict_item_to_author_nn.get(item_id, 1) for item_id in range(dataset.vocab_size))).to(DEVICE, non_blocking=True)\n",
    "    \n",
    "    model.eval()\n",
    "    all_preds = []\n",
    "    for batch in tqdm(dl):\n",
    "        with torch.no_grad():\n",
    "            with torch.cuda.amp.autocast():\n",
    "                batch_input_ids = batch['input_ids'].to(DEVICE, non_blocking=True)\n",
    "                res = model.forward(\n",
    "                    input_ids=batch_input_ids,\n",
    "                    attention_mask=batch['attention_mask'].to(DEVICE, non_blocking=True),\n",
    "                    token_type_ids=batch['token_type_ids'].to(DEVICE, non_blocking=True),\n",
    "                    labels=batch['labels'].to(DEVICE, non_blocking=True),\n",
    "                    filter_history_items=True,\n",
    "                    trim_length=TRIM_LENGTH,\n",
    "                    item_to_author_mapper=item_to_author_indices_nn\n",
    "                )\n",
    "\n",
    "                scores = res.logits[:, 0, :].unsqueeze(1) # predict last item\n",
    "                scores[:, :, :len(dataset.special_tokens) + 1] = -10000 # +1 due to unk token\n",
    "                # remove historical items form predictions; allow only new items\n",
    "                # scores.scatter_(dim=2, index=batch_input_ids.unsqueeze(1), src=-10000 * torch.ones_start(batch_input_ids.unsqueeze(1),dtype=scores.dtype))\n",
    "                scores = scores.squeeze(1)\n",
    "                preds = torch.topk(scores, k=10, dim=1).indices - len(dataset.special_tokens)\n",
    "                all_preds += preds.detach().cpu().numpy().tolist()\n",
    "\n",
    "    all_preds = item_encoder.inverse_transform(all_preds)\n",
    "    return all_preds "
   ]
  },
  {
   "cell_type": "code",
   "execution_count": 32,
   "id": "3c9c6ab5",
   "metadata": {},
   "outputs": [],
   "source": [
    "def load_from_checkpoint(checkpoint_name, model, optimizer, new_lr=None):\n",
    "    checkpoint = torch.load(checkpoint_name)\n",
    "    model.load_state_dict(checkpoint['model'])\n",
    "    if new_lr is not None:\n",
    "        for param_groups in checkpoint['optimizer']['param_groups']:\n",
    "            param_groups['lr'] = new_lr\n",
    "            param_groups['initial_lr'] = new_lr\n",
    "    optimizer.load_state_dict(checkpoint['optimizer'])"
   ]
  },
  {
   "cell_type": "code",
   "execution_count": null,
   "id": "127764ed",
   "metadata": {},
   "outputs": [
    {
     "data": {
      "application/vnd.jupyter.widget-view+json": {
       "model_id": "3db9796eefb5412782e585dca87581df",
       "version_major": 2,
       "version_minor": 0
      },
      "text/plain": [
       "  0%|          | 0/2320659 [00:00<?, ?it/s]"
      ]
     },
     "metadata": {},
     "output_type": "display_data"
    }
   ],
   "source": [
    "DEVICE = 'cuda'\n",
    "model.to(DEVICE)\n",
    "TRIM_LENGTH = 64\n",
    "best_val_score = -10000.0\n",
    "\n",
    "checkpoint_name = None\n",
    "\n",
    "# +1 is a shift for masked_author token\n",
    "dict_item_to_author_nn = {item_encoder.transform(k).tolist() + len(dataset.special_tokens) :author_encoder.transform(v).tolist() + 1 for k, v in tqdm(dict_item_to_author.items())}\n",
    "# 1 is an unknown author token\n",
    "# item_to_author_indices_nn = torch.LongTensor(list(dict_item_to_author_nn.get(item_id, 1) for item_id in range(dataset.vocab_size))).to(DEVICE)\n",
    "\n",
    "epochs=20\n",
    "accumulation_steps=100\n",
    "learning_rate = 2.5e-4\n",
    "num_train_optimization_steps = int(epochs * len(dataloader) / accumulation_steps)\n",
    "correct_bias = True\n",
    "weight_decay = 1e-05\n",
    "no_decay = ['bias', 'LayerNorm.bias', 'LayerNorm.weight']\n",
    "param_optimizer = list(model.named_parameters())\n",
    "optimizer_grouped_parameters = [\n",
    "    {'params': [p for n, p in param_optimizer if not any(nd in n for nd in no_decay)], 'weight_decay': weight_decay},\n",
    "    {'params': [p for n, p in param_optimizer if any(nd in n for nd in no_decay)], 'weight_decay': 0.0}\n",
    "]\n",
    "\n",
    "optimizer = AdamW(\n",
    "    optimizer_grouped_parameters, lr=learning_rate, correct_bias=correct_bias, \n",
    ")\n",
    "\n",
    "if checkpoint_name is not None:\n",
    "    load_from_checkpoint(checkpoint_name, model, optimizer, new_lr=learning_rate)\n",
    "\n",
    "warmup_steps = int(1 * len(dataloader) / accumulation_steps)\n",
    "\n",
    "scheduler = get_linear_schedule_with_warmup(\n",
    "    optimizer, num_warmup_steps=warmup_steps,\n",
    "    num_training_steps=num_train_optimization_steps\n",
    ")\n",
    "scaler = torch.cuda.amp.GradScaler()\n",
    "run = wandb.init(project='Rutube', config=model_config.to_diff_dict())\n",
    "run.config.update({\n",
    "    'n_whitelisted_items': item_encoder.keep_top_n,\n",
    "    'mask_prob': dataset.mask_prob,\n",
    "    'force_last_token_mask_prob': dataset.force_last_token_mask_prob,\n",
    "    'batch_size': dataloader.batch_size,\n",
    "    'epochs': epochs,\n",
    "    'accumulation_steps': accumulation_steps,\n",
    "    'learning_rate': learning_rate,\n",
    "    'warmup_steps': warmup_steps,\n",
    "    'num_train_optimization_steps': num_train_optimization_steps,\n",
    "    'correct_bias': correct_bias,\n",
    "    'label_smoothing': model.label_smoothing,\n",
    "    'weight_decay': weight_decay,\n",
    "    'from_checkpoint': checkpoint_name,\n",
    "})\n",
    "\n",
    "for e in range(epochs):\n",
    "    torch.cuda.empty_cache()\n",
    "    train(\n",
    "        model,\n",
    "        dataloader,\n",
    "        DEVICE=DEVICE,\n",
    "        TRIM_LENGTH=TRIM_LENGTH\n",
    "    )\n",
    "            \n",
    "    all_preds = validate(\n",
    "        model,\n",
    "        val_dataloader,\n",
    "        DEVICE=DEVICE,\n",
    "        TRIM_LENGTH=TRIM_LENGTH\n",
    "    )\n",
    "    \n",
    "    checkpoint = { \n",
    "        'epoch': e,\n",
    "        'model': model.state_dict(),\n",
    "        'optimizer': optimizer.state_dict(),\n",
    "    }\n",
    "    torch.save(checkpoint, f'output/checkpoint_{run.id}_{e}.pth')\n",
    "\n",
    "    score = calc_score(val_true[:len(all_preds)], all_preds)\n",
    "    if score > best_val_score:\n",
    "        best_val_score = score\n",
    "        torch.save(model.state_dict(), f'output/model_{run.id}.pt')\n",
    "    wandb.log({\"score\": score})\n",
    "\n",
    "run.finish()"
   ]
  },
  {
   "cell_type": "code",
   "execution_count": null,
   "id": "2cb55a4c",
   "metadata": {},
   "outputs": [],
   "source": []
  }
 ],
 "metadata": {
  "kernelspec": {
   "display_name": "Python 3 (ipykernel)",
   "language": "python",
   "name": "python3"
  },
  "language_info": {
   "codemirror_mode": {
    "name": "ipython",
    "version": 3
   },
   "file_extension": ".py",
   "mimetype": "text/x-python",
   "name": "python",
   "nbconvert_exporter": "python",
   "pygments_lexer": "ipython3",
   "version": "3.9.12"
  }
 },
 "nbformat": 4,
 "nbformat_minor": 5
}
